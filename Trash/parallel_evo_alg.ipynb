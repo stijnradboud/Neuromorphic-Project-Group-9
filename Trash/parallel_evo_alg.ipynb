{
 "cells": [
  {
   "cell_type": "code",
   "execution_count": 4,
   "id": "6cbbffd6-af1a-48ec-9e70-44e9cb07f6f6",
   "metadata": {},
   "outputs": [],
   "source": [
    "import numpy as np\n",
    "import matplotlib.pyplot as plt\n",
    "\n",
    "%matplotlib inline\n",
    "\n",
    "import nengo\n",
    "from nengo.utils.matplotlib import rasterplot\n",
    "# import nengo_loihi\n",
    "\n",
    "# All NengoLoihi models should call this before model construction\n",
    "# nengo_loihi.set_defaults()\n"
   ]
  },
  {
   "cell_type": "markdown",
   "id": "440fe534-6f77-4ea0-8f89-809504474a32",
   "metadata": {},
   "source": [
    "Pop_size = 8 chromosomes, chromosome size = 3 genes"
   ]
  },
  {
   "cell_type": "markdown",
   "id": "65c3b360-faf9-4a02-bf32-2136d261873c",
   "metadata": {},
   "source": [
    "Initialization Ensemble"
   ]
  },
  {
   "cell_type": "code",
   "execution_count": 6,
   "id": "fafb13d7-8e70-42aa-80b4-66ed97ded5e1",
   "metadata": {},
   "outputs": [],
   "source": [
    "input_chromosomes = [[1,1,1],[0,0,0]]"
   ]
  },
  {
   "cell_type": "code",
   "execution_count": 63,
   "id": "338c10fa-2266-4a4b-95f5-b00ee0900d15",
   "metadata": {},
   "outputs": [
    {
     "data": {
      "application/vdom.v1+json": {
       "attributes": {},
       "tagName": "div"
      },
      "text/html": [
       "\n",
       "                <script>\n",
       "                    if (Jupyter.version.split(\".\")[0] < 5) {\n",
       "                        var pb = document.getElementById(\"e25e7416-1482-40d3-bb3b-d6bc21667ae0\");\n",
       "                        var text = document.createTextNode(\n",
       "                            \"HMTL progress bar requires Jupyter Notebook >= \" +\n",
       "                            \"5.0 or Jupyter Lab. Alternatively, you can use \" +\n",
       "                            \"TerminalProgressBar().\");\n",
       "                        pb.parentNode.insertBefore(text, pb);\n",
       "                    }\n",
       "                </script>\n",
       "                <div id=\"e25e7416-1482-40d3-bb3b-d6bc21667ae0\" style=\"\n",
       "                    width: 100%;\n",
       "                    border: 1px solid #cfcfcf;\n",
       "                    border-radius: 4px;\n",
       "                    text-align: center;\n",
       "                    position: relative;\">\n",
       "                  <div class=\"pb-text\" style=\"\n",
       "                      position: absolute;\n",
       "                      width: 100%;\">\n",
       "                    0%\n",
       "                  </div>\n",
       "                  <div class=\"pb-fill\" style=\"\n",
       "                      background-color: #bdd2e6;\n",
       "                      width: 0%;\">\n",
       "                    <style type=\"text/css\" scoped=\"scoped\">\n",
       "                        @keyframes pb-fill-anim {\n",
       "                            0% { background-position: 0 0; }\n",
       "                            100% { background-position: 100px 0; }\n",
       "                        }\n",
       "                    </style>\n",
       "                    &nbsp;\n",
       "                  </div>\n",
       "                </div>"
      ],
      "text/plain": [
       "HtmlProgressBar cannot be displayed. Please use the TerminalProgressBar. It can be enabled with `nengo.rc['progress']['progress_bar'] = 'nengo.utils.progress.TerminalProgressBar'`."
      ]
     },
     "metadata": {},
     "output_type": "display_data"
    },
    {
     "data": {
      "application/vdom.v1+json": {
       "attributes": {
        "id": "5de770c0-209d-4a20-baa2-08b2fa74c6ea",
        "style": {
         "border": "1px solid #cfcfcf",
         "borderRadius": "4px",
         "boxSizing": "border-box",
         "position": "relative",
         "textAlign": "center",
         "width": "100%"
        }
       },
       "children": [
        {
         "attributes": {
          "class": "pb-text",
          "style": {
           "position": "absolute",
           "width": "100%"
          }
         },
         "children": [
          "Build finished in 0:00:01."
         ],
         "tagName": "div"
        },
        {
         "attributes": {
          "class": "pb-fill",
          "style": {
           "animation": "none",
           "backgroundColor": "#bdd2e6",
           "backgroundImage": "none",
           "backgroundSize": "100px 100%",
           "width": "100%"
          }
         },
         "children": [
          {
           "attributes": {
            "scoped": "scoped",
            "type": "text/css"
           },
           "children": [
            "\n                        @keyframes pb-fill-anim {\n                            0% { background-position: 0 0; }\n                            100% { background-position: 100px 0; }\n                        }}"
           ],
           "tagName": "style"
          },
          " "
         ],
         "tagName": "div"
        }
       ],
       "tagName": "div"
      },
      "text/html": [
       "<script>\n",
       "              (function () {\n",
       "                  var root = document.getElementById('e25e7416-1482-40d3-bb3b-d6bc21667ae0');\n",
       "                  var text = root.getElementsByClassName('pb-text')[0];\n",
       "                  var fill = root.getElementsByClassName('pb-fill')[0];\n",
       "\n",
       "                  text.innerHTML = 'Build finished in 0:00:01.';\n",
       "                  \n",
       "            fill.style.width = '100%';\n",
       "            fill.style.animation = 'pb-fill-anim 2s linear infinite';\n",
       "            fill.style.backgroundSize = '100px 100%';\n",
       "            fill.style.backgroundImage = 'repeating-linear-gradient(' +\n",
       "                '90deg, #bdd2e6, #edf2f8 40%, #bdd2e6 80%, #bdd2e6)';\n",
       "        \n",
       "                  \n",
       "                fill.style.animation = 'none';\n",
       "                fill.style.backgroundImage = 'none';\n",
       "            \n",
       "              })();\n",
       "        </script>"
      ]
     },
     "metadata": {},
     "output_type": "display_data"
    },
    {
     "data": {
      "application/vdom.v1+json": {
       "attributes": {},
       "tagName": "div"
      },
      "text/html": [
       "\n",
       "                <script>\n",
       "                    if (Jupyter.version.split(\".\")[0] < 5) {\n",
       "                        var pb = document.getElementById(\"fa6b56d0-18a3-47e1-8dc6-1a6100615b5a\");\n",
       "                        var text = document.createTextNode(\n",
       "                            \"HMTL progress bar requires Jupyter Notebook >= \" +\n",
       "                            \"5.0 or Jupyter Lab. Alternatively, you can use \" +\n",
       "                            \"TerminalProgressBar().\");\n",
       "                        pb.parentNode.insertBefore(text, pb);\n",
       "                    }\n",
       "                </script>\n",
       "                <div id=\"fa6b56d0-18a3-47e1-8dc6-1a6100615b5a\" style=\"\n",
       "                    width: 100%;\n",
       "                    border: 1px solid #cfcfcf;\n",
       "                    border-radius: 4px;\n",
       "                    text-align: center;\n",
       "                    position: relative;\">\n",
       "                  <div class=\"pb-text\" style=\"\n",
       "                      position: absolute;\n",
       "                      width: 100%;\">\n",
       "                    0%\n",
       "                  </div>\n",
       "                  <div class=\"pb-fill\" style=\"\n",
       "                      background-color: #bdd2e6;\n",
       "                      width: 0%;\">\n",
       "                    <style type=\"text/css\" scoped=\"scoped\">\n",
       "                        @keyframes pb-fill-anim {\n",
       "                            0% { background-position: 0 0; }\n",
       "                            100% { background-position: 100px 0; }\n",
       "                        }\n",
       "                    </style>\n",
       "                    &nbsp;\n",
       "                  </div>\n",
       "                </div>"
      ],
      "text/plain": [
       "HtmlProgressBar cannot be displayed. Please use the TerminalProgressBar. It can be enabled with `nengo.rc['progress']['progress_bar'] = 'nengo.utils.progress.TerminalProgressBar'`."
      ]
     },
     "metadata": {},
     "output_type": "display_data"
    },
    {
     "data": {
      "application/vdom.v1+json": {
       "attributes": {
        "id": "a42cad60-6e6f-475f-aa05-bb7e59fafcbc",
        "style": {
         "border": "1px solid #cfcfcf",
         "borderRadius": "4px",
         "boxSizing": "border-box",
         "position": "relative",
         "textAlign": "center",
         "width": "100%"
        }
       },
       "children": [
        {
         "attributes": {
          "class": "pb-text",
          "style": {
           "position": "absolute",
           "width": "100%"
          }
         },
         "children": [
          "Simulation finished in 0:00:01."
         ],
         "tagName": "div"
        },
        {
         "attributes": {
          "class": "pb-fill",
          "style": {
           "animation": "none",
           "backgroundColor": "#bdd2e6",
           "backgroundImage": "none",
           "transition": "width 0.1s linear",
           "width": "100%"
          }
         },
         "children": [
          {
           "attributes": {
            "scoped": "scoped",
            "type": "text/css"
           },
           "children": [
            "\n                        @keyframes pb-fill-anim {\n                            0% { background-position: 0 0; }\n                            100% { background-position: 100px 0; }\n                        }}"
           ],
           "tagName": "style"
          },
          " "
         ],
         "tagName": "div"
        }
       ],
       "tagName": "div"
      },
      "text/html": [
       "<script>\n",
       "              (function () {\n",
       "                  var root = document.getElementById('fa6b56d0-18a3-47e1-8dc6-1a6100615b5a');\n",
       "                  var text = root.getElementsByClassName('pb-text')[0];\n",
       "                  var fill = root.getElementsByClassName('pb-fill')[0];\n",
       "\n",
       "                  text.innerHTML = 'Simulation finished in 0:00:01.';\n",
       "                  \n",
       "            if (100.0 > 0.) {\n",
       "                fill.style.transition = 'width 0.1s linear';\n",
       "            } else {\n",
       "                fill.style.transition = 'none';\n",
       "            }\n",
       "\n",
       "            fill.style.width = '100.0%';\n",
       "            fill.style.animation = 'none';\n",
       "            fill.style.backgroundImage = 'none'\n",
       "        \n",
       "                  \n",
       "                fill.style.animation = 'none';\n",
       "                fill.style.backgroundImage = 'none';\n",
       "            \n",
       "              })();\n",
       "        </script>"
      ]
     },
     "metadata": {},
     "output_type": "display_data"
    }
   ],
   "source": [
    "from nengo.dists import Uniform\n",
    "model = nengo.Network()\n",
    "with model:\n",
    "    input_node1 = nengo.Node(output = lambda t: input_chromosomes[0][0] if 0 < t < 0.01 else 0)\n",
    "    input_node2 = nengo.Node(output = lambda t: input_chromosomes[0][1] if 0 < t < 0.01 else 0)\n",
    "    input_node3 = nengo.Node(output = lambda t: input_chromosomes[0][2] if 0 < t < 0.01 else 0)\n",
    "    input_node4 = nengo.Node(output = lambda t: input_chromosomes[1][0] if 0 < t < 0.01 else 0)\n",
    "    input_node5 = nengo.Node(output = lambda t: input_chromosomes[1][1] if 0 < t < 0.01 else 0)\n",
    "    input_node6 = nengo.Node(output = lambda t: input_chromosomes[1][2] if 0 < t < 0.01 else 0)\n",
    "\n",
    "    I1 = nengo.Ensemble(1, dimensions=1)\n",
    "    I2 = nengo.Ensemble(1, dimensions=1)\n",
    "    I3 = nengo.Ensemble(1, dimensions=1)\n",
    "    I4 = nengo.Ensemble(1, dimensions=1)\n",
    "    I5 = nengo.Ensemble(1, dimensions=1)\n",
    "    I6 = nengo.Ensemble(1, dimensions=1)\n",
    "\n",
    "    input_node_probe1 = nengo.Probe(input_node1)\n",
    "    #input_node_probe2 = nengo.Probe(input_node2)\n",
    "    #input_node_probe3 = nengo.Probe(input_node3)\n",
    "    input_node_probe4 = nengo.Probe(input_node4)\n",
    "    #input_node_probe5 = nengo.Probe(input_node5)\n",
    "    #input_node_probe6 = nengo.Probe(input_node6)\n",
    "\n",
    "    nengo.Connection(input_node1, I1)\n",
    "    nengo.Connection(input_node4, I4)\n",
    "\n",
    "    I1_probe = nengo.Probe(I1, synapse=0.01)\n",
    "    I4_probe = nengo.Probe(I4, synapse=0.01)\n",
    "    spikes = nengo.Probe(I1.neurons)\n",
    "\n",
    "with nengo.Simulator(model) as sim:\n",
    "    sim.run(2)"
   ]
  },
  {
   "cell_type": "code",
   "execution_count": 59,
   "id": "a8f61acc-a3c6-40b4-9336-50ea9d9ccf80",
   "metadata": {},
   "outputs": [
    {
     "data": {
      "text/plain": [
       "[<matplotlib.lines.Line2D at 0x12e0f212f40>]"
      ]
     },
     "execution_count": 59,
     "metadata": {},
     "output_type": "execute_result"
    },
    {
     "data": {
      "image/png": "[encoded data removed]",
      "text/plain": [
       "<Figure size 640x480 with 1 Axes>"
      ]
     },
     "metadata": {},
     "output_type": "display_data"
    }
   ],
   "source": [
    "plt.plot(sim.data[input_node_probe1])"
   ]
  },
  {
   "cell_type": "code",
   "execution_count": 64,
   "id": "bb5d7452-3cfc-4b21-83ca-546e64ae276f",
   "metadata": {},
   "outputs": [
    {
     "data": {
      "text/plain": [
       "[<matplotlib.lines.Line2D at 0x12e10e16eb0>]"
      ]
     },
     "execution_count": 64,
     "metadata": {},
     "output_type": "execute_result"
    },
    {
     "data": {
      "image/png": "[encoded data removed]",
      "text/plain": [
       "<Figure size 640x480 with 1 Axes>"
      ]
     },
     "metadata": {},
     "output_type": "display_data"
    }
   ],
   "source": [
    "plt.plot(sim.data[input_node_probe4])"
   ]
  },
  {
   "cell_type": "code",
   "execution_count": 66,
   "id": "c46369b0-438b-4de7-a0ed-14ec0a0d51d3",
   "metadata": {},
   "outputs": [
    {
     "data": {
      "text/plain": [
       "[<matplotlib.lines.Line2D at 0x12e16116d00>]"
      ]
     },
     "execution_count": 66,
     "metadata": {},
     "output_type": "execute_result"
    },
    {
     "data": {
      "image/png": "[encoded data removed]",
      "text/plain": [
       "<Figure size 640x480 with 1 Axes>"
      ]
     },
     "metadata": {},
     "output_type": "display_data"
    }
   ],
   "source": [
    "plt.plot(sim.data[I1_probe])"
   ]
  },
  {
   "cell_type": "code",
   "execution_count": 67,
   "id": "1c5b6c0c-27ae-4028-a0e8-d5983c8133a6",
   "metadata": {},
   "outputs": [
    {
     "data": {
      "text/plain": [
       "[<matplotlib.lines.Line2D at 0x12e161745b0>]"
      ]
     },
     "execution_count": 67,
     "metadata": {},
     "output_type": "execute_result"
    },
    {
     "data": {
      "image/png": "[encoded data removed]",
      "text/plain": [
       "<Figure size 640x480 with 1 Axes>"
      ]
     },
     "metadata": {},
     "output_type": "display_data"
    }
   ],
   "source": [
    "plt.plot(sim.data[I4_probe])"
   ]
  },
  {
   "cell_type": "markdown",
   "id": "4ebf20e7-985d-4905-9ad5-ba1ea229289d",
   "metadata": {},
   "source": [
    "Evaluation and Sorting Ensemble"
   ]
  },
  {
   "cell_type": "code",
   "execution_count": null,
   "id": "6fabf71f-020f-4c50-9af8-99f7bc94f49e",
   "metadata": {},
   "outputs": [],
   "source": []
  },
  {
   "cell_type": "code",
   "execution_count": null,
   "id": "31f41c73-e7fe-44fa-857b-f3f325e428fe",
   "metadata": {},
   "outputs": [],
   "source": []
  },
  {
   "cell_type": "markdown",
   "id": "37510726-8945-430d-85ef-074b7180ec09",
   "metadata": {},
   "source": [
    "Cross-Over Ensemble"
   ]
  },
  {
   "cell_type": "code",
   "execution_count": null,
   "id": "6ede116c-358f-471e-b8eb-53a72557cd16",
   "metadata": {},
   "outputs": [],
   "source": []
  },
  {
   "cell_type": "markdown",
   "id": "65d0e060-b0e3-40ef-b8d7-0d2cd8cee0e0",
   "metadata": {},
   "source": [
    "Mutation Ensemble"
   ]
  },
  {
   "cell_type": "code",
   "execution_count": null,
   "id": "7be52ba9-1937-4f19-a047-c74f06e45e75",
   "metadata": {},
   "outputs": [],
   "source": [
    "from Nengo.processes import \n",
    "from nengo.dists import Uniform\n",
    "def mutation_ensemble(p, Ia, Ib, Ic):\n",
    "    '''\n",
    "    p : probability for swap\n",
    "    '''\n",
    "    model = nengo.Network()\n",
    "    with model:\n",
    "        m1 = nengo.Ensemble(1, dim=1, intercept = Uniform(2,2))\n",
    "        m2 = nengo.Ensemble(1, dim=1)\n",
    "        m3 = nengo.Ensemble(1, dim=1)\n",
    "        m4 = nengo.Ensemble(1, dim=1)\n",
    "        \n",
    "        Oa = nengo.Ensemble(1, dim=1)\n",
    "        Ob = nengo.Ensemble(1, dim=1)\n",
    "        Oc = nengo.Ensemble(1, dim=1)\n",
    "    return model"
   ]
  },
  {
   "cell_type": "code",
   "execution_count": null,
   "id": "79ae6b9c-0bc0-4df0-8b65-f3f6b17fe221",
   "metadata": {},
   "outputs": [],
   "source": []
  },
  {
   "cell_type": "markdown",
   "id": "e1925ddc-7d40-4439-b338-5b6a54661277",
   "metadata": {},
   "source": [
    "Unification"
   ]
  },
  {
   "cell_type": "code",
   "execution_count": null,
   "id": "531a4235-ad1f-4b95-ab6f-ab0d716babfa",
   "metadata": {},
   "outputs": [],
   "source": []
  },
  {
   "cell_type": "code",
   "execution_count": null,
   "id": "ca0a9aaa-36f8-4a72-a800-ea56f9bd5c71",
   "metadata": {},
   "outputs": [],
   "source": []
  }
 ],
 "metadata": {
  "kernelspec": {
   "display_name": "Python 3.9.15 ('lava')",
   "language": "python",
   "name": "python3"
  },
  "language_info": {
   "codemirror_mode": {
    "name": "ipython",
    "version": 3
   },
   "file_extension": ".py",
   "mimetype": "text/x-python",
   "name": "python",
   "nbconvert_exporter": "python",
   "pygments_lexer": "ipython3",
   "version": "3.9.15 (main, Nov 24 2022, 14:39:17) [MSC v.1916 64 bit (AMD64)]"
  },
  "vscode": {
   "interpreter": {
    "hash": "ee77900e32a3de22015cfcbd825608bcc5e7096f3668c17bc86b09b1d4486710"
   }
  }
 },
 "nbformat": 4,
 "nbformat_minor": 5
}
