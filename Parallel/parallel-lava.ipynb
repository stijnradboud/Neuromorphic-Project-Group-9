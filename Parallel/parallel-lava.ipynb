{
 "cells": [
  {
   "cell_type": "code",
   "execution_count": 1,
   "id": "88f6a335",
   "metadata": {},
   "outputs": [],
   "source": [
    "from lava.proc.lif.process import LIF\n",
    "from lava.proc.dense.process import Dense\n",
    "from lava.proc.spiker.process import Spiker\n",
    "from lava.proc.monitor.process import Monitor\n",
    "from lava.proc.io.source import RingBuffer\n",
    "from lava.magma.core.run_conditions import RunSteps, RunContinuous\n",
    "from lava.magma.core.run_configs import Loihi1SimCfg\n",
    "\n",
    "import numpy as np\n",
    "\n",
    "num_steps = 30"
   ]
  },
  {
   "cell_type": "code",
   "execution_count": 6,
   "id": "f283367f",
   "metadata": {},
   "outputs": [],
   "source": [
    "input_a = np.concatenate((np.array([1, 0, 1]), np.zeros(100)))\n",
    "input_b = np.concatenate((np.array([0, 1, 1]), np.zeros(100)))\n",
    "\n",
    "buffer_a = RingBuffer(data=input_a)\n",
    "buffer_b = RingBuffer(data=input_b)"
   ]
  }
 ],
 "metadata": {
  "kernelspec": {
   "display_name": "Python 3 (ipykernel)",
   "language": "python",
   "name": "python3"
  },
  "language_info": {
   "codemirror_mode": {
    "name": "ipython",
    "version": 3
   },
   "file_extension": ".py",
   "mimetype": "text/x-python",
   "name": "python",
   "nbconvert_exporter": "python",
   "pygments_lexer": "ipython3",
   "version": "3.9.7"
  }
 },
 "nbformat": 4,
 "nbformat_minor": 5
}
