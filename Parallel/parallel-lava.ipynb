{
 "cells": [
  {
   "cell_type": "code",
   "execution_count": 1,
   "id": "88f6a335",
   "metadata": {},
   "outputs": [],
   "source": [
    "from lava.proc.lif.process import LIF\n",
    "from lava.proc.dense.process import Dense\n",
    "from lava.proc.spiker.process import Spiker\n",
    "from lava.proc.monitor.process import Monitor\n",
    "from lava.proc.io.source import RingBuffer\n",
    "from lava.magma.core.run_conditions import RunSteps, RunContinuous\n",
    "from lava.magma.core.run_configs import Loihi1SimCfg\n",
    "\n",
    "import numpy as np\n",
    "\n",
    "num_steps = 30"
   ]
  },
  {
   "cell_type": "code",
   "execution_count": 2,
   "id": "f283367f",
   "metadata": {},
   "outputs": [],
   "source": [
    "def get_input_buffer(genome):\n",
    "    buffer_data = np.concatenate((np.array(genome), np.zeros(num_steps - len(genome))))\n",
    "    \n",
    "    return RingBuffer(data=np.array([buffer_data]))\n",
    "\n",
    "\n",
    "# create a neuron with a specified name and spiking threshold\n",
    "# These neurons send a spike for only one time step and remember their voltage\n",
    "def create_neuron(name, threshold=0.999, dv=0):\n",
    "    neuron = LIF(shape=(1, ),                         # Number and topological layout of units in the process\n",
    "           vth=threshold,                              # Membrane threshold\n",
    "           dv=dv,                              # Inverse membrane time-constant\n",
    "           du=1,                              # Inverse synaptic time-constant\n",
    "           bias_mant=0.0,              # Bias added to the membrane voltage in every timestep\n",
    "           name=name)\n",
    "    \n",
    "    return neuron\n",
    "\n",
    "\n",
    "# connect neuron1 to neuron2 with a specified weight and delay\n",
    "def connect_neurons(neuron1, neuron2, weight=1.0, delay=1):\n",
    "    input_neuron = neuron1\n",
    "    \n",
    "    conn = Dense(weights=np.array([[weight]]), name='conn')\n",
    "    neuron1.s_out.connect(conn.s_in)\n",
    "    \n",
    "    for i in range(delay - 1):\n",
    "        conn_delay = Dense(weights=np.array([[weight]]), name='conn_delay')\n",
    "        conn.a_out.connect(conn_delay.s_in)\n",
    "        conn = conn_delay\n",
    "        print(i)\n",
    "        \n",
    "    conn.a_out.connect(neuron2.a_in)"
   ]
  },
  {
   "cell_type": "code",
   "execution_count": 83,
   "id": "5557aa85",
   "metadata": {},
   "outputs": [
    {
     "name": "stdout",
     "output_type": "stream",
     "text": [
      "0\n",
      "1\n",
      "2\n",
      "3\n"
     ]
    }
   ],
   "source": [
    "input_a = get_input_buffer([1, 0, 1])\n",
    "#dense1 = Dense(weights=np.array([[1]]), name='dense')\n",
    "neuron_out = create_neuron('out', threshold=4.999)\n",
    "\n",
    "#input_a.s_out.connect(dense.s_in)\n",
    "#dense.a_out.connect(neuron_out.a_in)\n",
    "connect_neurons(input_a, neuron_out, weight=2, delay=5)"
   ]
  },
  {
   "cell_type": "code",
   "execution_count": 34,
   "id": "d814e517",
   "metadata": {},
   "outputs": [],
   "source": [
    "def mutate_neuron(neuron_in, leading, prob=0.5):\n",
    "    random_a = get_input_buffer([0, 1, 0, 1])#get_input_buffer(np.random.choice([0, 1], size=(num_steps,), p=[1-prob, prob]))\n",
    "\n",
    "    # mutate neuron deciding whether input should be mutated (iff random=1 & leading=1)\n",
    "    mutate_a = create_neuron('mutate_a', threshold=1.999, dv=1)\n",
    "    random_a.s_out.connect(mutate_a.a_in)\n",
    "    leading.s_out.connect(mutate_a.a_in)\n",
    "\n",
    "    #input_a = get_input_buffer([1, 0, 0])\n",
    "\n",
    "    check_a1 = create_neuron('check_a1', threshold=0.999, dv=1)\n",
    "    check_a2 = create_neuron('check_a2', threshold=0.999, dv=1)\n",
    "\n",
    "    connect_neurons(mutate_a, check_a1)\n",
    "    connect_neurons(mutate_a, check_a2, weight=-1)\n",
    "\n",
    "    connect_neurons(neuron_in, check_a1, weight=-1)\n",
    "    connect_neurons(neuron_in, check_a2)\n",
    "\n",
    "    neuron_out = create_neuron('neuron_out', threshold=0.999)\n",
    "    connect_neurons(check_a1, neuron_out)\n",
    "    connect_neurons(check_a2, neuron_out)\n",
    "    \n",
    "    return neuron_out\n",
    "\n"
   ]
  },
  {
   "cell_type": "code",
   "execution_count": 35,
   "id": "9a2e62bb",
   "metadata": {},
   "outputs": [
    {
     "data": {
      "image/png": "[encoded data removed]",
      "text/plain": [
       "<Figure size 1600x500 with 2 Axes>"
      ]
     },
     "metadata": {},
     "output_type": "display_data"
    }
   ],
   "source": [
    "leading = get_input_buffer([1, 1, 1, 1])\n",
    "input_a = get_input_buffer([0, 0, 1, 1])\n",
    "neuron_out = mutate_neuron(input_a, leading)\n",
    "\n",
    "\n",
    "monitor_out = Monitor()\n",
    "#monitor_lif1.probe(lif1.v, num_steps)\n",
    "monitor_out.probe(neuron_out.u, num_steps)\n",
    "\n",
    "# run conditions\n",
    "run_condition = RunSteps(num_steps=num_steps)\n",
    "run_cfg = Loihi1SimCfg(select_tag=\"floating_pt\")\n",
    "\n",
    "# run network and get results\n",
    "neuron_out.run(condition=run_condition, run_cfg=run_cfg)\n",
    "#data_lif1 = monitor_lif1.get_data()\n",
    "data_out = monitor_out.get_data()\n",
    "\n",
    "# plot results\n",
    "import matplotlib\n",
    "%matplotlib inline\n",
    "from matplotlib import pyplot as plt\n",
    "\n",
    "# Create a subplot for each monitor\n",
    "fig = plt.figure(figsize=(16, 5))\n",
    "ax0 = fig.add_subplot(121)\n",
    "ax1 = fig.add_subplot(122)\n",
    "\n",
    "# Plot the recorded data\n",
    "#monitor_lif1.plot(ax0, lif1.v)\n",
    "monitor_out.plot(ax1, neuron_out.u)"
   ]
  }
 ],
 "metadata": {
  "kernelspec": {
   "display_name": "Python 3 (ipykernel)",
   "language": "python",
   "name": "python3"
  },
  "language_info": {
   "codemirror_mode": {
    "name": "ipython",
    "version": 3
   },
   "file_extension": ".py",
   "mimetype": "text/x-python",
   "name": "python",
   "nbconvert_exporter": "python",
   "pygments_lexer": "ipython3",
   "version": "3.9.7"
  }
 },
 "nbformat": 4,
 "nbformat_minor": 5
}
