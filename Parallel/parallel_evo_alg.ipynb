{
 "cells": [
  {
   "cell_type": "code",
   "execution_count": null,
   "id": "6cbbffd6-af1a-48ec-9e70-44e9cb07f6f6",
   "metadata": {},
   "outputs": [],
   "source": [
    "import numpy as np\n",
    "import matplotlib.pyplot as plt\n",
    "\n",
    "%matplotlib inline\n",
    "\n",
    "import nengo\n",
    "from nengo.utils.matplotlib import rasterplot\n",
    "import nengo_loihi\n",
    "\n",
    "# All NengoLoihi models should call this before model construction\n",
    "nengo_loihi.set_defaults()\n"
   ]
  },
  {
   "cell_type": "code",
   "execution_count": null,
   "id": "b252653f-893d-43fc-8357-cfadf94bb231",
   "metadata": {},
   "outputs": [],
   "source": [
    "def create_parallel_network(n_genes = 8):\n",
    "    model = nengo.Network()\n",
    "    with model:"
   ]
  }
 ],
 "metadata": {
  "kernelspec": {
   "display_name": "Python 3 (ipykernel)",
   "language": "python",
   "name": "python3"
  },
  "language_info": {
   "codemirror_mode": {
    "name": "ipython",
    "version": 3
   },
   "file_extension": ".py",
   "mimetype": "text/x-python",
   "name": "python",
   "nbconvert_exporter": "python",
   "pygments_lexer": "ipython3",
   "version": "3.9.10"
  }
 },
 "nbformat": 4,
 "nbformat_minor": 5
}
