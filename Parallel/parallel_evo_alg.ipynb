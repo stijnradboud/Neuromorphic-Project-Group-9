{
 "cells": [
  {
   "cell_type": "code",
   "execution_count": null,
   "id": "6cbbffd6-af1a-48ec-9e70-44e9cb07f6f6",
   "metadata": {},
   "outputs": [],
   "source": [
    "import numpy as np\n",
    "import matplotlib.pyplot as plt\n",
    "\n",
    "%matplotlib inline\n",
    "\n",
    "import nengo\n",
    "from nengo.utils.matplotlib import rasterplot\n",
    "import nengo_loihi\n",
    "\n",
    "# All NengoLoihi models should call this before model construction\n",
    "nengo_loihi.set_defaults()\n"
   ]
  },
  {
   "cell_type": "code",
   "execution_count": null,
   "id": "b252653f-893d-43fc-8357-cfadf94bb231",
   "metadata": {},
   "outputs": [],
   "source": [
    "def create_parallel_network(n_genes = 8):\n",
    "    model = nengo.Network()\n",
    "    with model:"
   ]
  },
  {
   "cell_type": "markdown",
   "id": "440fe534-6f77-4ea0-8f89-809504474a32",
   "metadata": {},
   "source": [
    "Pop_size = 8 chromosomes, chromosome size = 3 genes"
   ]
  },
  {
   "cell_type": "markdown",
   "id": "65c3b360-faf9-4a02-bf32-2136d261873c",
   "metadata": {},
   "source": [
    "Initialization Ensemble"
   ]
  },
  {
   "cell_type": "code",
   "execution_count": null,
   "id": "338c10fa-2266-4a4b-95f5-b00ee0900d15",
   "metadata": {},
   "outputs": [],
   "source": []
  },
  {
   "cell_type": "markdown",
   "id": "4ebf20e7-985d-4905-9ad5-ba1ea229289d",
   "metadata": {},
   "source": [
    "Evaluation and Sorting Ensemble"
   ]
  },
  {
   "cell_type": "code",
   "execution_count": null,
   "id": "31f41c73-e7fe-44fa-857b-f3f325e428fe",
   "metadata": {},
   "outputs": [],
   "source": []
  },
  {
   "cell_type": "markdown",
   "id": "37510726-8945-430d-85ef-074b7180ec09",
   "metadata": {},
   "source": [
    "Cross-Over Ensemble"
   ]
  },
  {
   "cell_type": "code",
   "execution_count": null,
   "id": "6ede116c-358f-471e-b8eb-53a72557cd16",
   "metadata": {},
   "outputs": [],
   "source": []
  },
  {
   "cell_type": "markdown",
   "id": "65d0e060-b0e3-40ef-b8d7-0d2cd8cee0e0",
   "metadata": {},
   "source": [
    "Mutation Ensemble"
   ]
  },
  {
   "cell_type": "code",
   "execution_count": null,
   "id": "7be52ba9-1937-4f19-a047-c74f06e45e75",
   "metadata": {},
   "outputs": [],
   "source": []
  },
  {
   "cell_type": "markdown",
   "id": "e1925ddc-7d40-4439-b338-5b6a54661277",
   "metadata": {},
   "source": [
    "Unification"
   ]
  },
  {
   "cell_type": "code",
   "execution_count": null,
   "id": "531a4235-ad1f-4b95-ab6f-ab0d716babfa",
   "metadata": {},
   "outputs": [],
   "source": []
  },
  {
   "cell_type": "code",
   "execution_count": null,
   "id": "ca0a9aaa-36f8-4a72-a800-ea56f9bd5c71",
   "metadata": {},
   "outputs": [],
   "source": []
  }
 ],
 "metadata": {
  "kernelspec": {
   "display_name": "Python 3 (ipykernel)",
   "language": "python",
   "name": "python3"
  },
  "language_info": {
   "codemirror_mode": {
    "name": "ipython",
    "version": 3
   },
   "file_extension": ".py",
   "mimetype": "text/x-python",
   "name": "python",
   "nbconvert_exporter": "python",
   "pygments_lexer": "ipython3",
   "version": "3.9.10"
  }
 },
 "nbformat": 4,
 "nbformat_minor": 5
}
