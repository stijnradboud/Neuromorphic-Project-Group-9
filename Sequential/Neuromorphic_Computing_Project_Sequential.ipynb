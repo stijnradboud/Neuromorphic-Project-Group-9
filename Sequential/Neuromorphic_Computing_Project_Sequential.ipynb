{
  "nbformat": 4,
  "nbformat_minor": 0,
  "metadata": {
    "colab": {
      "provenance": [],
      "authorship_tag": "ABX9TyO2r/2NzUd/T3SP3NIuCpyw",
      "include_colab_link": true
    },
    "kernelspec": {
      "name": "python3",
      "display_name": "Python 3"
    },
    "language_info": {
      "name": "python"
    }
  },
  "cells": [
    {
      "cell_type": "markdown",
      "metadata": {
        "id": "view-in-github",
        "colab_type": "text"
      },
      "source": [
        "<a href=\"https://colab.research.google.com/github/stijnradboud/Neuromorphic-Project-Group-9/blob/main/Sequential/Neuromorphic_Computing_Project_Sequential.ipynb\" target=\"_parent\"><img src=\"https://colab.research.google.com/assets/colab-badge.svg\" alt=\"Open In Colab\"/></a>"
      ]
    },
    {
      "cell_type": "code",
      "execution_count": null,
      "metadata": {
        "id": "l1XssmCckyqI"
      },
      "outputs": [],
      "source": [
        "import numpy as np\n",
        "import matplotlib.pyplot as plt\n",
        "import nengo as n\n",
        "\n",
        "%matplotlib inline"
      ]
    },
    {
      "cell_type": "code",
      "source": [
        "model = nengo.Network()\n",
        "\n",
        "with model:"
      ],
      "metadata": {
        "id": "XjQKb9nzoI4m"
      },
      "execution_count": null,
      "outputs": []
    }
  ]
}