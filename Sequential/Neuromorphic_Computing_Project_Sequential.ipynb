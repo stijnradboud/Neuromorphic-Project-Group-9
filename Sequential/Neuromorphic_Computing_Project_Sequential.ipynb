{
  "nbformat": 4,
  "nbformat_minor": 0,
  "metadata": {
    "colab": {
      "provenance": [],
      "authorship_tag": "ABX9TyN1Mog5DzKU+fo78zbnS9I2",
      "include_colab_link": true
    },
    "kernelspec": {
      "name": "python3",
      "display_name": "Python 3"
    },
    "language_info": {
      "name": "python"
    }
  },
  "cells": [
    {
      "cell_type": "markdown",
      "metadata": {
        "id": "view-in-github",
        "colab_type": "text"
      },
      "source": [
        "<a href=\"https://colab.research.google.com/github/stijnradboud/Neuromorphic-Project-Group-9/blob/main/Sequential/Neuromorphic_Computing_Project_Sequential.ipynb\" target=\"_parent\"><img src=\"https://colab.research.google.com/assets/colab-badge.svg\" alt=\"Open In Colab\"/></a>"
      ]
    },
    {
      "cell_type": "code",
      "execution_count": 2,
      "metadata": {
        "colab": {
          "base_uri": "https://localhost:8080/"
        },
        "id": "l1XssmCckyqI",
        "outputId": "affecf6a-8839-4e47-8a68-d629680b2caf"
      },
      "outputs": [
        {
          "output_type": "stream",
          "name": "stdout",
          "text": [
            "Looking in indexes: https://pypi.org/simple, https://us-python.pkg.dev/colab-wheels/public/simple/\n",
            "Collecting nengo\n",
            "  Downloading nengo-3.2.0-py3-none-any.whl (535 kB)\n",
            "\u001b[K     |████████████████████████████████| 535 kB 35.7 MB/s \n",
            "\u001b[?25hRequirement already satisfied: numpy>=1.19 in /usr/local/lib/python3.7/dist-packages (from nengo) (1.21.6)\n",
            "Installing collected packages: nengo\n",
            "Successfully installed nengo-3.2.0\n"
          ]
        }
      ],
      "source": [
        "import numpy as np\n",
        "import matplotlib.pyplot as plt\n",
        "\n",
        "!pip install nengo\n",
        "import nengo as n\n",
        "\n",
        "%matplotlib inline"
      ]
    },
    {
      "cell_type": "markdown",
      "source": [
        "#Sequential Model\n"
      ],
      "metadata": {
        "id": "eHor3nrNv4EY"
      }
    },
    {
      "cell_type": "code",
      "source": [
        "SeqModel = n.Network()\n",
        "\n",
        "with SeqModel:"
      ],
      "metadata": {
        "id": "hNQ8uBVUv9yC"
      },
      "execution_count": null,
      "outputs": []
    },
    {
      "cell_type": "markdown",
      "source": [
        "##Evaluation Ensemble"
      ],
      "metadata": {
        "id": "DjEcFEpOvui_"
      }
    },
    {
      "cell_type": "code",
      "source": [],
      "metadata": {
        "id": "XjQKb9nzoI4m"
      },
      "execution_count": null,
      "outputs": []
    },
    {
      "cell_type": "markdown",
      "source": [
        "## Bubble Sort Ensemble"
      ],
      "metadata": {
        "id": "DRq4ANq3wBXq"
      }
    },
    {
      "cell_type": "code",
      "source": [],
      "metadata": {
        "id": "zxo5A3L_wGb_"
      },
      "execution_count": null,
      "outputs": []
    },
    {
      "cell_type": "markdown",
      "source": [
        "##Crossover Ensemble"
      ],
      "metadata": {
        "id": "F7-NgiyjwHs2"
      }
    },
    {
      "cell_type": "code",
      "source": [],
      "metadata": {
        "id": "Hk1yt7ykwPM-"
      },
      "execution_count": null,
      "outputs": []
    },
    {
      "cell_type": "markdown",
      "source": [
        "##Mutation Ensemble"
      ],
      "metadata": {
        "id": "VDt7yJPfwQ8o"
      }
    },
    {
      "cell_type": "code",
      "source": [],
      "metadata": {
        "id": "09kGgYarwU9b"
      },
      "execution_count": null,
      "outputs": []
    }
  ]
}